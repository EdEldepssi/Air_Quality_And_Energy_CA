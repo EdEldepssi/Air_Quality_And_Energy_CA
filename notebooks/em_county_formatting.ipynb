{
 "cells": [
  {
   "cell_type": "markdown",
   "id": "1d48b462-e83b-4617-a323-65d4330b7095",
   "metadata": {},
   "source": [
    "# Formatting CARB County-Level Emissions Data"
   ]
  },
  {
   "cell_type": "markdown",
   "id": "66622ea0-54d9-4f81-a8e5-a8fc3667415e",
   "metadata": {},
   "source": [
    "### 0. Import Packages"
   ]
  },
  {
   "cell_type": "code",
   "execution_count": 1,
   "id": "5a18738d-e038-4040-b53a-7c296357a2e8",
   "metadata": {},
   "outputs": [],
   "source": [
    "import pandas as pd"
   ]
  },
  {
   "cell_type": "markdown",
   "id": "ddb60a4e-2df7-460b-9616-65ea10de1d4e",
   "metadata": {},
   "source": [
    "**Functionalizing County Data Formatting:**\n",
    "\n",
    "Function should accept a county name and perform the following:\n",
    "\n",
    "- Load and format each csv into a df within a dictionary\n",
    "- Merge all emissions into a single df\n",
    "- Create grouping df by melting emission-specific series\n",
    "- Add population, TpDpCap columns to grouping df\n",
    "- Save county_all_ems df and county_grouping_df to csv's"
   ]
  },
  {
   "cell_type": "markdown",
   "id": "4938fdfc-be60-48d9-b744-9291957f6b75",
   "metadata": {},
   "source": [
    "### 1. Variables for Data Formatting"
   ]
  },
  {
   "cell_type": "code",
   "execution_count": 2,
   "id": "a89fb81e-41b1-40ec-bf8b-4c465f76cb99",
   "metadata": {},
   "outputs": [],
   "source": [
    "# emission types list\n",
    "em_types = ['co', 'nh3', 'nox', 'pm', 'pm10', 'pm2_5', 'rog', 'sox', 'tog']\n",
    "\n",
    "# initialize dictionary for individual emissions df's\n",
    "em_df_dict = {}"
   ]
  },
  {
   "cell_type": "code",
   "execution_count": 3,
   "id": "881a867e-a49c-41ce-9129-09dd7e9703b6",
   "metadata": {},
   "outputs": [],
   "source": [
    "# county: \n",
    "popfile_col_dict = {'los_angeles': 'CALOSA7POP',\n",
    "                    'yuba': 'CAYUBA5POP',\n",
    "                    'kern': 'CAKERN0POP',\n",
    "                    'sacramento': 'CASACR5POP',\n",
    "                    'riverside': 'CARIVE5POP',\n",
    "                    'alpine': 'CAALPI3POP',\n",
    "                    'santa_clara': 'CASANT5POP',\n",
    "                    'marin': 'CAMARI5POP',\n",
    "                    'humboldt': 'CAHUMB0POP',\n",
    "                    'san_diego': 'CASAND5POP'\n",
    "                   }"
   ]
  },
  {
   "cell_type": "markdown",
   "id": "3196b9e8-3e08-444e-a5cc-a410a3dac971",
   "metadata": {},
   "source": [
    "### 2. Data Formatting Function"
   ]
  },
  {
   "cell_type": "code",
   "execution_count": 4,
   "id": "c74bb7c3-1353-4d95-8802-c1d5dd6a72ea",
   "metadata": {},
   "outputs": [],
   "source": [
    "def format_county_data(county): # use _ in place of space in county name\n",
    "    \n",
    "    # LOAD AND FORMAT EACH EMISSION-SPECIFIC CSV INTO A DF WITHIN A DICTIONARY\n",
    "    \n",
    "    for em in em_types:\n",
    "        # load data\n",
    "        em_df = pd.read_csv(f'../data/CARB Emissions Data/counties/{county}/{county}_{em}.csv')\n",
    "\n",
    "        # lowercase columns; drop unnecessary columns\n",
    "        em_df.columns = [col.lower() for col in em_df.columns]\n",
    "        em_df.drop(columns=['area', 'pollutant', 'season', 'control_type', 'v1.03_rf3084'], inplace=True)\n",
    "\n",
    "        # melt years and cast year as integer\n",
    "        em_df = pd.melt(em_df, id_vars=['src_type', 'category', 'subcategory'], var_name='year', value_name=f'{em}')\n",
    "        em_df.year = [int(year) for year in em_df.year]\n",
    "\n",
    "        # save df in dict\n",
    "        em_df_dict[f'{em}'] = em_df\n",
    "        \n",
    "    # MERGE ALL EMISSIONS INTO A SINGLE DF\n",
    "    \n",
    "    # start with carbon monoxide to initialize df for merge\n",
    "    all_em_df = em_df_dict['co']\n",
    "    \n",
    "    # merge remaining df's in one at a time, matching on all keys to ensure data integrity\n",
    "    for em in em_types[1:]:\n",
    "        all_em_df = pd.merge(all_em_df, em_df_dict[f'{em}'], on=['src_type', 'category', 'subcategory', 'year'])\n",
    "    \n",
    "    # CREATE GROUPING DF BY MELTING EMISSION-SPECIFIC SERIES\n",
    "    \n",
    "    # melt separate emissions columns into 'em_type' for grouping, plotting\n",
    "    grouping_df = pd.melt(all_em_df, id_vars=['src_type', 'category', 'subcategory', 'year'],\n",
    "                          value_vars=em_types, var_name='em_type', value_name='tons_per_day')\n",
    "    \n",
    "    # ADD POPULATION, TPDPCAP COLUMNS TO GROUPING DF\n",
    "\n",
    "    # read in population data\n",
    "    pop_yearly = pd.read_csv(f'../data/FRED/{county}_POP.csv')\n",
    "    \n",
    "    # rename columns\n",
    "    pop_yearly = pop_yearly.rename(columns={'DATE': 'year', popfile_col_dict[county]: 'population'})\n",
    "\n",
    "    # convert date to year\n",
    "    pop_yearly['year'] = list(range(2000, 2022))\n",
    "\n",
    "    # convert population from thousands to ones\n",
    "    pop_yearly['population'] = pop_yearly['population'] * 1000\n",
    "    \n",
    "    # merge population column into grouping df\n",
    "    grouping_df = pd.merge(grouping_df, pop_yearly, on='year')\n",
    "    \n",
    "    # add TpDpCap column\n",
    "    grouping_df['TpDpCap'] = grouping_df['tons_per_day'] / grouping_df['population']\n",
    "    \n",
    "    # FILL NA'S WITH 0 FOR BOTH DF'S: MISSING VALUES INDICATE NO EMISSIONS\n",
    "    \n",
    "    all_em_df.fillna(0, inplace=True)\n",
    "    grouping_df.fillna(0, inplace=True)\n",
    "    \n",
    "    # SAVE COUNTY_ALL_EMS DF AND COUNTY_GROUPING DF TO CSV\n",
    "    \n",
    "    all_em_df.to_csv(f'../data/CARB Emissions Data/counties/{county}/{county}_all_ems.csv', index=False)\n",
    "    grouping_df.to_csv(f'../data/CARB Emissions Data/counties/{county}/{county}_grouping.csv', index=False)\n",
    "    \n",
    "    return None"
   ]
  },
  {
   "cell_type": "markdown",
   "id": "d2ed4b85-ebc1-4002-b575-443edc8dac30",
   "metadata": {},
   "source": [
    "### 3. Format Data for Each County"
   ]
  },
  {
   "cell_type": "code",
   "execution_count": 5,
   "id": "186b2284-6783-494c-b381-d8ef70a5819f",
   "metadata": {},
   "outputs": [],
   "source": [
    "for county in popfile_col_dict.keys():\n",
    "    format_county_data(county)"
   ]
  }
 ],
 "metadata": {
  "kernelspec": {
   "display_name": "Python 3 (ipykernel)",
   "language": "python",
   "name": "python3"
  },
  "language_info": {
   "codemirror_mode": {
    "name": "ipython",
    "version": 3
   },
   "file_extension": ".py",
   "mimetype": "text/x-python",
   "name": "python",
   "nbconvert_exporter": "python",
   "pygments_lexer": "ipython3",
   "version": "3.9.7"
  }
 },
 "nbformat": 4,
 "nbformat_minor": 5
}
