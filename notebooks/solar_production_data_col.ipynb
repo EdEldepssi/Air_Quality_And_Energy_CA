{
 "cells": [
  {
   "cell_type": "code",
   "execution_count": 1,
   "id": "25488445-ad4b-46a9-8773-907c6afe26d6",
   "metadata": {},
   "outputs": [],
   "source": [
    "from bs4 import BeautifulSoup\n",
    "import pandas as pd\n",
    "import numpy as np\n",
    "import requests\n",
    "import time\n",
    "from selenium import webdriver\n",
    "from selenium.webdriver.firefox.service import Service #Use webdriver.chrome.service for Chrome"
   ]
  },
  {
   "cell_type": "code",
   "execution_count": 2,
   "id": "72aa6835-d083-4961-a66c-9b0d5a23c22d",
   "metadata": {},
   "outputs": [],
   "source": [
    "# For Firefox, move geckodriver folder with geckodriver into current working directory\n",
    "# For Chrome, move chromedriver folder with chromedriver into current working directory\n",
    "# use 'chromedriver/chromedriver' for service path\n",
    "\n",
    "ser = Service('geckodriver/geckodriver')\n",
    "op = webdriver.FirefoxOptions()\n",
    "driver = webdriver.Firefox(service=ser, options=op)\n",
    "url = 'https://ww2.energy.ca.gov/almanac/renewables_data/solar/index_cms.php'"
   ]
  },
  {
   "cell_type": "code",
   "execution_count": 3,
   "id": "ae6cca44-6d23-4472-896d-965151f74e47",
   "metadata": {},
   "outputs": [],
   "source": [
    "#uncomment and run to close window\n",
    "#driver.close()"
   ]
  },
  {
   "cell_type": "code",
   "execution_count": 4,
   "id": "82f72417-3871-4895-aea2-3cdab3ca1319",
   "metadata": {},
   "outputs": [],
   "source": [
    "driver.get(url)"
   ]
  },
  {
   "cell_type": "code",
   "execution_count": null,
   "id": "972ec1f1-148b-4ef5-8352-4db4ef3e47b4",
   "metadata": {},
   "outputs": [],
   "source": [
    "# Generate list of page source strings for year 2001-2021 in descending year order\n",
    "html_list = []\n",
    "for x in range(2,23):\n",
    "    driver.find_element('xpath', f'/html/body/div[3]/main/div/div/div[3]/form/select/option[{x}]').click()\n",
    "    driver.find_element('xpath', '/html/body/div[3]/main/div/div/div[3]/form/input').click()\n",
    "    time.sleep(1)\n",
    "    html = driver.page_source\n",
    "    html_list.append(html)"
   ]
  },
  {
   "cell_type": "code",
   "execution_count": null,
   "id": "9f85d7b8-3f38-4013-8597-e563925bfeae",
   "metadata": {},
   "outputs": [],
   "source": [
    "# Solar Thermal Production\n",
    "for i in range(len(html_list)):\n",
    "    dfs = pd.read_html(html_list[i])\n",
    "    if i == 0:\n",
    "        solar_therm_all = dfs[0]\n",
    "        print(f'Year {2021 - i} completed.')\n",
    "    else:\n",
    "        solar_therm_all = pd.concat([solar_therm_all, dfs[0]])\n",
    "        print(f'Year {2021 - i} completed.')"
   ]
  },
  {
   "cell_type": "code",
   "execution_count": null,
   "id": "6d424203-e86c-48ff-95eb-a926da3f46c5",
   "metadata": {},
   "outputs": [],
   "source": [
    "solar_therm_all"
   ]
  },
  {
   "cell_type": "code",
   "execution_count": null,
   "id": "ac8ce2eb-3217-4e73-a33b-10c235738fb8",
   "metadata": {},
   "outputs": [],
   "source": [
    "# Solar PV Production\n",
    "for i in range(len(html_list)):\n",
    "    dfs = pd.read_html(html_list[i])\n",
    "    if i == 0:\n",
    "        solar_pv_all = dfs[1]\n",
    "        print(f'Year {2021 - i} completed.')\n",
    "    else:\n",
    "        solar_pv_all = pd.concat([solar_pv_all, dfs[1]])        \n",
    "        print(f'Year {2021 - i} completed.')"
   ]
  },
  {
   "cell_type": "code",
   "execution_count": null,
   "id": "bab85e23-1c6e-4bcc-8265-6e888da2568a",
   "metadata": {},
   "outputs": [],
   "source": [
    "solar_pv_all"
   ]
  },
  {
   "cell_type": "code",
   "execution_count": null,
   "id": "b5f19994-dedf-4a50-b7b1-7f5c4e9817b1",
   "metadata": {},
   "outputs": [],
   "source": [
    "# Solar Imports Production (PV + thermal)\n",
    "for i in range(len(html_list)):\n",
    "    dfs = pd.read_html(html_list[i])\n",
    "    if i == 0:\n",
    "        solar_imports_all = dfs[2]\n",
    "        print(f'Year {2021 - i} completed.')\n",
    "    else:\n",
    "        solar_imports_all = pd.concat([solar_imports_all, dfs[2]])\n",
    "        print(f'Year {2021 - i} completed.')"
   ]
  },
  {
   "cell_type": "code",
   "execution_count": null,
   "id": "c5a604b4-d5f6-45dc-8ae8-6f0462e64391",
   "metadata": {},
   "outputs": [],
   "source": [
    "solar_imports_all"
   ]
  },
  {
   "cell_type": "code",
   "execution_count": null,
   "id": "ea0f2129-3ef7-42bd-87cc-342b74ab9774",
   "metadata": {},
   "outputs": [],
   "source": [
    "# Solar Annual Totals (PV + thermal + imports) - 1 chart for 2021-1983, present on all pages\n",
    "\n",
    "dfs = pd.read_html(html_list[0])\n",
    "solar_annual_all = dfs[3]"
   ]
  },
  {
   "cell_type": "code",
   "execution_count": null,
   "id": "c9530726-3db8-4550-8b45-38165c764e35",
   "metadata": {},
   "outputs": [],
   "source": [
    "solar_annual_all"
   ]
  },
  {
   "cell_type": "code",
   "execution_count": null,
   "id": "3707c627-5836-4b5f-be2f-4cfa4aac14a6",
   "metadata": {},
   "outputs": [],
   "source": [
    "# Solar by County (PV + Thermal)\n",
    "for i in range(len(html_list)):\n",
    "    dfs = pd.read_html(html_list[i])\n",
    "    if i == 0:\n",
    "        solar_county_all = dfs[4]\n",
    "        solar_county_all['year'] = 2021\n",
    "        print(f'Year {2021 - i} completed.')\n",
    "        \n",
    "    else:\n",
    "        solar_county_next = dfs[4]\n",
    "        solar_county_next['year'] = 2021-i\n",
    "        solar_county_all = pd.concat([solar_county_all, solar_county_next])\n",
    "        print(f'Year {2021 - i} completed.')\n"
   ]
  },
  {
   "cell_type": "code",
   "execution_count": null,
   "id": "aaacab36-7d86-4094-8c88-ff0df987c82a",
   "metadata": {},
   "outputs": [],
   "source": [
    "solar_county_all"
   ]
  },
  {
   "cell_type": "code",
   "execution_count": null,
   "id": "f52db186-bf12-4932-b2db-7dddadc7191f",
   "metadata": {},
   "outputs": [],
   "source": [
    "driver.close()"
   ]
  },
  {
   "cell_type": "markdown",
   "id": "172b8e59-d830-4e18-a1d1-ea0922b5a459",
   "metadata": {},
   "source": [
    "### Initial Cleaning\n",
    " - Combining pv and thermal production dfs, dropping unnamed columns"
   ]
  },
  {
   "cell_type": "code",
   "execution_count": null,
   "id": "6106c3a3-9cc4-4bc1-a775-34d5e32d3f01",
   "metadata": {},
   "outputs": [],
   "source": [
    "solar_pv_all.head()"
   ]
  },
  {
   "cell_type": "code",
   "execution_count": null,
   "id": "63ebcc0f-c54d-4d95-a561-ddc4fc06d713",
   "metadata": {},
   "outputs": [],
   "source": [
    "solar_pv_all.columns = [col[1] for col in solar_pv_all.columns]"
   ]
  },
  {
   "cell_type": "code",
   "execution_count": null,
   "id": "7a35878d-74c3-4c13-b681-da967a98599e",
   "metadata": {},
   "outputs": [],
   "source": [
    "solar_pv_all = solar_pv_all.drop('Unnamed: 7_level_1', axis = 1)"
   ]
  },
  {
   "cell_type": "code",
   "execution_count": null,
   "id": "78f221e2-dd28-4808-8898-06bcaf3593b5",
   "metadata": {},
   "outputs": [],
   "source": [
    "solar_pv_all['type'] = 'pv'"
   ]
  },
  {
   "cell_type": "code",
   "execution_count": null,
   "id": "24fe8222-c2e6-408e-868a-addc538b8aa2",
   "metadata": {},
   "outputs": [],
   "source": [
    "solar_pv_all.head()"
   ]
  },
  {
   "cell_type": "code",
   "execution_count": null,
   "id": "28be0643-d815-49be-83eb-d70c445691df",
   "metadata": {},
   "outputs": [],
   "source": [
    "solar_therm_all.head()"
   ]
  },
  {
   "cell_type": "code",
   "execution_count": null,
   "id": "a41768c6-f01d-48b3-8aaa-561b11448f63",
   "metadata": {},
   "outputs": [],
   "source": [
    "solar_therm_all.columns = [col[1] for col in solar_therm_all.columns]\n",
    "solar_therm_all = solar_therm_all.drop('Unnamed: 7_level_1', axis = 1)"
   ]
  },
  {
   "cell_type": "code",
   "execution_count": null,
   "id": "740a9f79-4e60-4f57-bc1c-b42593369259",
   "metadata": {},
   "outputs": [],
   "source": [
    "solar_therm_all['type'] = 'therm'"
   ]
  },
  {
   "cell_type": "code",
   "execution_count": null,
   "id": "00a0e26d-8648-4a2c-bf0a-f97d61aa2a6c",
   "metadata": {},
   "outputs": [],
   "source": [
    "solar_therm_all.head()"
   ]
  },
  {
   "cell_type": "code",
   "execution_count": null,
   "id": "7d4d40e8-4355-49cb-855a-939c4597b84c",
   "metadata": {},
   "outputs": [],
   "source": [
    "solar_pvtherm_all = pd.concat([solar_pv_all, solar_therm_all])"
   ]
  },
  {
   "cell_type": "code",
   "execution_count": null,
   "id": "25cbaaaa-4fda-475b-a0ca-3fc42e575779",
   "metadata": {},
   "outputs": [],
   "source": [
    "solar_pvtherm_all.shape"
   ]
  },
  {
   "cell_type": "code",
   "execution_count": null,
   "id": "26e03ba0-4df6-449c-a8bb-baa57bf4b2c7",
   "metadata": {},
   "outputs": [],
   "source": [
    "solar_pvtherm_all = solar_pvtherm_all.reset_index(drop=True)"
   ]
  },
  {
   "cell_type": "code",
   "execution_count": null,
   "id": "1f9b64ea-94d8-47ac-968f-f4feb0e5a8cd",
   "metadata": {},
   "outputs": [],
   "source": [
    "solar_imports_all = solar_imports_all.drop('Unnamed: 7', axis = 1)"
   ]
  },
  {
   "cell_type": "code",
   "execution_count": null,
   "id": "107f6acd-04dc-4364-9a6a-63a449a3b2ef",
   "metadata": {},
   "outputs": [],
   "source": [
    "solar_imports_all = solar_imports_all.reset_index(drop=True)"
   ]
  },
  {
   "cell_type": "code",
   "execution_count": null,
   "id": "58621eca-648b-4128-a8a0-b717e78a5b7b",
   "metadata": {},
   "outputs": [],
   "source": [
    "solar_county_all = solar_county_all.reset_index(drop=True)"
   ]
  },
  {
   "cell_type": "code",
   "execution_count": null,
   "id": "49619a6b-ac6e-4335-b424-e029ef149b89",
   "metadata": {},
   "outputs": [],
   "source": []
  },
  {
   "cell_type": "markdown",
   "id": "f32b2c08-a165-415b-8747-c2ddac305459",
   "metadata": {},
   "source": [
    "### Write to .csv"
   ]
  },
  {
   "cell_type": "code",
   "execution_count": null,
   "id": "569528d1-f60b-48d2-a25e-7449ece798a0",
   "metadata": {},
   "outputs": [],
   "source": [
    "solar_pvtherm_all.to_csv('../data/CA_Solar_Production_Data/solar_pv_thermal_prod_ca.csv')"
   ]
  },
  {
   "cell_type": "code",
   "execution_count": null,
   "id": "c68316d3-618f-489b-ac9a-993476fd284e",
   "metadata": {},
   "outputs": [],
   "source": [
    "solar_imports_all.to_csv('../data/CA_Solar_Production_Data/solar_pv_thermal_prod_imported.csv')"
   ]
  },
  {
   "cell_type": "code",
   "execution_count": null,
   "id": "2c94e05c-863d-4ec5-aeb2-c6e239ed5761",
   "metadata": {},
   "outputs": [],
   "source": [
    "solar_annual_all.to_csv('../data/CA_Solar_Production_Data/solar_pv_thermal_prod_annual.csv')"
   ]
  },
  {
   "cell_type": "code",
   "execution_count": null,
   "id": "9cad8a55-6316-45b9-b1e2-119ef89212d6",
   "metadata": {},
   "outputs": [],
   "source": [
    "solar_county_all.to_csv('../data/CA_Solar_Production_Data/solar_pv_thermal_prod_county.csv')"
   ]
  },
  {
   "cell_type": "code",
   "execution_count": null,
   "id": "bf570c4e-ef52-412e-a29d-47e1e390882c",
   "metadata": {},
   "outputs": [],
   "source": []
  }
 ],
 "metadata": {
  "kernelspec": {
   "display_name": "Python 3 (ipykernel)",
   "language": "python",
   "name": "python3"
  },
  "language_info": {
   "codemirror_mode": {
    "name": "ipython",
    "version": 3
   },
   "file_extension": ".py",
   "mimetype": "text/x-python",
   "name": "python",
   "nbconvert_exporter": "python",
   "pygments_lexer": "ipython3",
   "version": "3.9.12"
  }
 },
 "nbformat": 4,
 "nbformat_minor": 5
}
