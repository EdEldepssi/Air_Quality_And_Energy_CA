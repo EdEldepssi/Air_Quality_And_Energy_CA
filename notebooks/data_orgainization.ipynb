{
 "cells": [
  {
   "cell_type": "markdown",
   "id": "5fc6d2b6-0692-460f-80d2-c2d439fca4b1",
   "metadata": {},
   "source": [
    "# Data Orgainization"
   ]
  },
  {
   "cell_type": "markdown",
   "id": "2a131a18-210e-4fbc-865f-af5f8ba4e2ea",
   "metadata": {},
   "source": [
    "## Imports"
   ]
  },
  {
   "cell_type": "code",
   "execution_count": 1,
   "id": "ecbff7da-22cc-4d08-a57c-196473dd3724",
   "metadata": {},
   "outputs": [],
   "source": [
    "import pandas as pd\n",
    "import numpy as np"
   ]
  },
  {
   "cell_type": "markdown",
   "id": "e3e8229b-1e9d-4038-8423-654aebd415ac",
   "metadata": {},
   "source": [
    "## Load Data"
   ]
  },
  {
   "cell_type": "code",
   "execution_count": 2,
   "id": "205c7589-0ea9-4d9c-91c8-393a51dababc",
   "metadata": {},
   "outputs": [],
   "source": [
    "df_2021 = pd.read_csv('../data/epa_data/EJSCREEN/2021/EJSCREEN_2021_StatePctile.csv', na_values = 'None')\n",
    "df_2020 = pd.read_csv('../data/epa_data/EJSCREEN/2020/EJSCREEN_2020_StatePctile.csv', na_values = 'None')\n",
    "df_2019 = pd.read_csv('../data/epa_data/EJSCREEN/2019/EJSCREEN_2019_StatePctiles.csv', na_values = 'None')\n",
    "df_2018 = pd.read_csv('../data/epa_data/EJSCREEN/2018/EJSCREEN_StatePctile_2018.csv', na_values = 'None')\n",
    "df_2017 = pd.read_csv('../data/epa_data/EJSCREEN/2017/EJSCREEN_2017_USPR_Public.csv', na_values = 'None')\n",
    "df_2016 = pd.read_csv('../data/epa_data/EJSCREEN/2016/EJSCREEN_Full_V3_USPR_TSDFupdate.csv', na_values = 'None')"
   ]
  },
  {
   "cell_type": "code",
   "execution_count": 3,
   "id": "ad676a80-1be9-4c74-970c-d6f10b06ceed",
   "metadata": {},
   "outputs": [],
   "source": [
    "#In order to reduce the size of the files for upload I overwrote them. Before there was data on every state. Now there is only data for CA.\n",
    "df_2021 = df_2021[df_2021['ST_ABBREV'] == 'CA']\n",
    "df_2021.to_csv('../data/epa_data/EJSCREEN/2021/EJSCREEN_2021_StatePctile.csv', index = False)\n",
    "df_2020 = df_2020[df_2020['ST_ABBREV'] == 'CA']\n",
    "df_2020.to_csv('../data/epa_data/EJSCREEN/2020/EJSCREEN_2020_StatePctile.csv', index = False)\n",
    "df_2019 = df_2019[df_2019['ST_ABBREV'] == 'CA']\n",
    "df_2019.to_csv('../data/epa_data/EJSCREEN/2019/EJSCREEN_2019_StatePctiles.csv', index = False)\n",
    "df_2018 = df_2018[df_2018['ST_ABBREV'] == 'CA']\n",
    "df_2018.to_csv('../data/epa_data/EJSCREEN/2018/EJSCREEN_StatePctile_2018.csv', index = False)\n",
    "df_2017 = df_2017[df_2017['ST_ABBREV'] == 'CA']\n",
    "df_2017.to_csv('../data/epa_data/EJSCREEN/2017/EJSCREEN_2017_USPR_Public.csv', index = False)\n",
    "df_2016 = df_2016[df_2016['ST_ABBREV'] == 'CA']\n",
    "df_2016.to_csv('../data/epa_data/EJSCREEN/2016/EJSCREEN_Full_V3_USPR_TSDFupdate.csv', index = False)"
   ]
  },
  {
   "cell_type": "markdown",
   "id": "da4c1e0b-685a-4596-9381-61926b846eef",
   "metadata": {},
   "source": [
    "I only need the data for the state of California."
   ]
  },
  {
   "cell_type": "markdown",
   "id": "54214e4c-c4ea-48c4-b443-0d8b18c5f0ae",
   "metadata": {},
   "source": [
    "## Choose Columns"
   ]
  },
  {
   "cell_type": "markdown",
   "id": "cd43f7be-873c-418c-870f-e8fdbea5d03d",
   "metadata": {},
   "source": [
    "Each year had large difference in the number of columns. I choose to only keep those that appear accross all six years.\n",
    "Although this meant many columns have been discarded it is worth knowing that many of them where for a map functionality the EPA provides that was not relevent for this project. This include data for the color an item on a map should bear or the text it should display. These were demarcated by a `B` or `T` in the column name."
   ]
  },
  {
   "cell_type": "code",
   "execution_count": 4,
   "id": "5403f210-e4fe-4b0f-b2bb-699558220474",
   "metadata": {},
   "outputs": [
    {
     "data": {
      "text/plain": [
       "((23212, 136),\n",
       " (23212, 124),\n",
       " (23212, 128),\n",
       " (23212, 128),\n",
       " (23212, 147),\n",
       " (23212, 368))"
      ]
     },
     "execution_count": 4,
     "metadata": {},
     "output_type": "execute_result"
    }
   ],
   "source": [
    "df_2021.shape,\\\n",
    "df_2020.shape,\\\n",
    "df_2019.shape,\\\n",
    "df_2018.shape,\\\n",
    "df_2017.shape,\\\n",
    "df_2016.shape"
   ]
  },
  {
   "cell_type": "code",
   "execution_count": 5,
   "id": "1bb000e3-46ed-47e6-81fe-9f68f4519411",
   "metadata": {},
   "outputs": [],
   "source": [
    "all_cols_2021 = set([col for col in df_2021.columns])\n",
    "all_cols_2020 = set([col for col in df_2020.columns])\n",
    "all_cols_2019 = set([col for col in df_2019.columns])\n",
    "all_cols_2018 = set([col for col in df_2018.columns])\n",
    "all_cols_2017 = set([col for col in df_2017.columns])\n",
    "all_cols_2016 = set([col for col in df_2016.columns])\n",
    "\n",
    "\n",
    "intersect = all_cols_2021.\\\n",
    "intersection(all_cols_2020).\\\n",
    "intersection(all_cols_2019).\\\n",
    "intersection(all_cols_2018).\\\n",
    "intersection(all_cols_2017).\\\n",
    "intersection(all_cols_2016)"
   ]
  },
  {
   "cell_type": "code",
   "execution_count": 6,
   "id": "8756fca6-9028-439f-9fb4-576ecf3eacd9",
   "metadata": {},
   "outputs": [],
   "source": [
    "kept_cols = [col for col in intersect if (col[0] != 'B' and col[0] != 'T')]\n",
    "kept_cols.sort(key = lambda x: x[2:] if '_' in x else x)\n",
    "first_cols = ['ID', 'STATE_NAME', 'ST_ABBREV', 'REGION']\n",
    "kept_cols = first_cols + [col for col in kept_cols if col not in first_cols]"
   ]
  },
  {
   "cell_type": "markdown",
   "id": "bc29d66e-94f5-499a-b253-5f02cb1fe84f",
   "metadata": {},
   "source": [
    "Before applying the change I shall determine what columns are being lost for each year that are not related to the EPA map functionality according to the `B` or `T` tags."
   ]
  },
  {
   "cell_type": "code",
   "execution_count": 7,
   "id": "89d61020-2121-4aa8-b9dc-20cd13dfcaba",
   "metadata": {},
   "outputs": [
    {
     "data": {
      "text/plain": [
       "['UNEMPPCT', 'UST', 'D_UST_2', 'P_UNEMPPCT', 'P_UST', 'P_UST_D2']"
      ]
     },
     "execution_count": 7,
     "metadata": {},
     "output_type": "execute_result"
    }
   ],
   "source": [
    "[col for col in df_2021.columns if (col[0] != 'B' and col[0] != 'T') and (col not in intersect)]"
   ]
  },
  {
   "cell_type": "code",
   "execution_count": 8,
   "id": "3be51186-5a83-45ad-a38c-d1ecab20bee1",
   "metadata": {},
   "outputs": [
    {
     "data": {
      "text/plain": [
       "[]"
      ]
     },
     "execution_count": 8,
     "metadata": {},
     "output_type": "execute_result"
    }
   ],
   "source": [
    "[col for col in df_2020.columns if (col[0] != 'B' and col[0] != 'T') and (col not in intersect)]"
   ]
  },
  {
   "cell_type": "code",
   "execution_count": 9,
   "id": "8463bfff-d1ae-4c2c-87d4-7f590b3e09aa",
   "metadata": {},
   "outputs": [
    {
     "data": {
      "text/plain": [
       "['VULSVI6PCT', 'P_VSVI6PCT']"
      ]
     },
     "execution_count": 9,
     "metadata": {},
     "output_type": "execute_result"
    }
   ],
   "source": [
    "[col for col in df_2019.columns if (col[0] != 'B' and col[0] != 'T') and (col not in intersect)]"
   ]
  },
  {
   "cell_type": "code",
   "execution_count": 10,
   "id": "0130123e-842e-493a-8312-8c279a84f830",
   "metadata": {},
   "outputs": [
    {
     "data": {
      "text/plain": [
       "['VULSVI6PCT', 'P_VSVI6PCT']"
      ]
     },
     "execution_count": 10,
     "metadata": {},
     "output_type": "execute_result"
    }
   ],
   "source": [
    "[col for col in df_2018.columns if (col[0] != 'B' and col[0] != 'T') and (col not in intersect)]"
   ]
  },
  {
   "cell_type": "code",
   "execution_count": 11,
   "id": "b9426f32-2097-4f27-916f-2668f94d6033",
   "metadata": {},
   "outputs": [
    {
     "data": {
      "text/plain": [
       "['ACSIPOVBAS',\n",
       " 'ACSEDUCBAS',\n",
       " 'ACSTOTHH',\n",
       " 'ACSTOTHU',\n",
       " 'MINORPOP',\n",
       " 'LOWINCOME',\n",
       " 'LESSHS',\n",
       " 'LINGISO',\n",
       " 'UNDER5',\n",
       " 'OVER64',\n",
       " 'PRE1960',\n",
       " 'VULSVI6PCT',\n",
       " 'VULEO',\n",
       " 'VULSVI6',\n",
       " 'DISPEO',\n",
       " 'DISPSVI6',\n",
       " 'P_VSVI6PCT',\n",
       " 'AREALAND',\n",
       " 'AREAWATER',\n",
       " 'NPL_CNT']"
      ]
     },
     "execution_count": 11,
     "metadata": {},
     "output_type": "execute_result"
    }
   ],
   "source": [
    "[col for col in df_2017.columns if (col[0] != 'B' and col[0] != 'T') and (col not in intersect)]"
   ]
  },
  {
   "cell_type": "code",
   "execution_count": 12,
   "id": "5fd6ac9e-a02c-4aa7-bac7-b963d71d6d56",
   "metadata": {},
   "outputs": [
    {
     "data": {
      "text/plain": [
       "array(['ACSIPOVBAS', 'ACSEDUCBAS', 'ACSTOTHH', 'ACSTOTHU', 'MINORPOP',\n",
       "       'LOWINCOME', 'LESSHS', 'LINGISO', 'UNDER5', 'OVER64', 'PRE1960',\n",
       "       'VULSVI6PCT', 'VULEO', 'VULSVI6', 'DISPEO', 'DISPSVI6', 'LDPNT_D6',\n",
       "       'LDPNT_B2', 'LDPNT_B6', 'LDPNT_P2', 'LDPNT_P6', 'DSLPM_D6',\n",
       "       'DSLPM_B2', 'DSLPM_B6', 'DSLPM_P2', 'DSLPM_P6', 'CANCR_D6',\n",
       "       'CANCR_B2', 'CANCR_B6', 'CANCR_P2', 'CANCR_P6', 'RESP_D6',\n",
       "       'RESP_B2', 'RESP_B6', 'RESP_P2', 'RESP_P6', 'PTRAF_D6', 'PTRAF_B2',\n",
       "       'PTRAF_B6', 'PTRAF_P2', 'PTRAF_P6', 'PWDIS_D6', 'PWDIS_B2',\n",
       "       'PWDIS_B6', 'PWDIS_P2', 'PWDIS_P6', 'PNPL_D6', 'PNPL_B2',\n",
       "       'PNPL_B6', 'PNPL_P2', 'PNPL_P6', 'PRMP_D6', 'PRMP_B2', 'PRMP_B6',\n",
       "       'PRMP_P2', 'PRMP_P6', 'PTSDF_D6', 'PTSDF_B2', 'PTSDF_B6',\n",
       "       'PTSDF_P2', 'PTSDF_P6', 'OZONE_D6', 'OZONE_B2', 'OZONE_B6',\n",
       "       'OZONE_P2', 'OZONE_P6', 'PM25_D6', 'PM25_B2', 'PM25_B6', 'PM25_P2',\n",
       "       'PM25_P6', 'P_VSVI6PCT', 'P_LDPNT_D6', 'P_LDPNT_B2', 'P_LDPNT_B6',\n",
       "       'P_LDPNT_P2', 'P_LDPNT_P6', 'P_DSLPM_D6', 'P_DSLPM_B2',\n",
       "       'P_DSLPM_B6', 'P_DSLPM_P2', 'P_DSLPM_P6', 'P_CANCR_D6',\n",
       "       'P_CANCR_B2', 'P_CANCR_B6', 'P_CANCR_P2', 'P_CANCR_P6',\n",
       "       'P_RESP_D6', 'P_RESP_B2', 'P_RESP_B6', 'P_RESP_P2', 'P_RESP_P6',\n",
       "       'P_PTRAF_D6', 'P_PTRAF_B2', 'P_PTRAF_B6', 'P_PTRAF_P2',\n",
       "       'P_PTRAF_P6', 'P_PWDIS_D6', 'P_PWDIS_B2', 'P_PWDIS_B6',\n",
       "       'P_PWDIS_P2', 'P_PWDIS_P6', 'P_PNPL_D6', 'P_PNPL_B2', 'P_PNPL_B6',\n",
       "       'P_PNPL_P2', 'P_PNPL_P6', 'P_PRMP_D6', 'P_PRMP_B2', 'P_PRMP_B6',\n",
       "       'P_PRMP_P2', 'P_PRMP_P6', 'P_PTSDF_D6', 'P_PTSDF_B2', 'P_PTSDF_B6',\n",
       "       'P_PTSDF_P2', 'P_PTSDF_P6', 'P_OZONE_D6', 'P_OZONE_B2',\n",
       "       'P_OZONE_B6', 'P_OZONE_P2', 'P_OZONE_P6', 'P_PM25_D6', 'P_PM25_B2',\n",
       "       'P_PM25_B6', 'P_PM25_P2', 'P_PM25_P6', 'AREALAND', 'AREAWATER',\n",
       "       'NPDES_CNT', 'NPL_CNT'], dtype='<U10')"
      ]
     },
     "execution_count": 12,
     "metadata": {},
     "output_type": "execute_result"
    }
   ],
   "source": [
    "np.array([col for col in df_2016.columns if (col[0] != 'B' and col[0] != 'T') and (col not in intersect)])"
   ]
  },
  {
   "cell_type": "markdown",
   "id": "4c77b298-5200-43bc-8fb4-7e30fe63412d",
   "metadata": {},
   "source": [
    "Given that the year 2016 is an outlier in terms of data loss and that it represents the oldest data this data will be left out. Even still there are sixty six columns that are represented in this year, so there is plently of still relevent data."
   ]
  },
  {
   "cell_type": "code",
   "execution_count": 13,
   "id": "09feaa15-ccf1-4dd4-b9fd-e94ff9ff8c1e",
   "metadata": {},
   "outputs": [],
   "source": [
    "df_2021 = df_2021[kept_cols]\n",
    "df_2020 = df_2020[kept_cols]\n",
    "df_2019 = df_2019[kept_cols]\n",
    "df_2018 = df_2018[kept_cols]\n",
    "df_2017 = df_2017[kept_cols]\n",
    "df_2016 = df_2016[kept_cols]"
   ]
  },
  {
   "cell_type": "code",
   "execution_count": 14,
   "id": "28e87495-a2ee-4295-8120-45a8ebb3032c",
   "metadata": {},
   "outputs": [
    {
     "data": {
      "text/plain": [
       "((23212, 66), (23212, 66), (23212, 66), (23212, 66), (23212, 66), (23212, 66))"
      ]
     },
     "execution_count": 14,
     "metadata": {},
     "output_type": "execute_result"
    }
   ],
   "source": [
    "df_2021.shape,\\\n",
    "df_2020.shape,\\\n",
    "df_2019.shape,\\\n",
    "df_2018.shape,\\\n",
    "df_2017.shape,\\\n",
    "df_2016.shape"
   ]
  },
  {
   "cell_type": "markdown",
   "id": "c7a20b15-a132-4e29-8092-3764e0af319b",
   "metadata": {},
   "source": [
    "## Processing to confirm appropriate numeric type"
   ]
  },
  {
   "cell_type": "code",
   "execution_count": 15,
   "id": "38275506-03a5-4cd1-8565-b2b432651ad7",
   "metadata": {},
   "outputs": [],
   "source": [
    "def find_sentinals(data):\n",
    "    sentinals = set()\n",
    "    for u in data:\n",
    "        try:\n",
    "            float(u)\n",
    "        except (ValueError):\n",
    "            sentinals.add(u)\n",
    "    if len(sentinals) == 0:\n",
    "        return None\n",
    "    else:\n",
    "        return sentinals\n",
    "\n",
    "def find_sentinals_in_dataframe(dataframe):\n",
    "    columns = [col for col in dataframe.columns if dataframe[col].dtype == 'O']\n",
    "    df_sentinals = set()\n",
    "    columns_that_can_be_cast_to_float = []\n",
    "    for i in columns:\n",
    "        s = find_sentinals(dataframe[i])\n",
    "        if s == None:\n",
    "            columns_that_can_be_cast_to_float.append(i)\n",
    "        else:\n",
    "            df_sentinals.update(s)\n",
    "    return df_sentinals, columns_that_can_be_cast_to_float"
   ]
  },
  {
   "cell_type": "code",
   "execution_count": 16,
   "id": "6fbe493e-26fe-47e5-8baa-e7101a031078",
   "metadata": {},
   "outputs": [
    {
     "data": {
      "text/plain": [
       "(set(), [])"
      ]
     },
     "execution_count": 16,
     "metadata": {},
     "output_type": "execute_result"
    }
   ],
   "source": [
    "find_sentinals_in_dataframe(df_2021.drop(columns = ['STATE_NAME', 'ST_ABBREV']))"
   ]
  },
  {
   "cell_type": "code",
   "execution_count": 17,
   "id": "f9e37c96-e270-4e8d-aced-78cffc530a63",
   "metadata": {},
   "outputs": [
    {
     "data": {
      "text/plain": [
       "float64    60\n",
       "int64       4\n",
       "object      2\n",
       "dtype: int64"
      ]
     },
     "execution_count": 17,
     "metadata": {},
     "output_type": "execute_result"
    }
   ],
   "source": [
    "df_2021.dtypes.value_counts()"
   ]
  },
  {
   "cell_type": "code",
   "execution_count": 18,
   "id": "9760584c-ab51-4c33-bfde-ebc4cf374815",
   "metadata": {},
   "outputs": [
    {
     "data": {
      "text/plain": [
       "(set(), [])"
      ]
     },
     "execution_count": 18,
     "metadata": {},
     "output_type": "execute_result"
    }
   ],
   "source": [
    "find_sentinals_in_dataframe(df_2020.drop(columns = ['STATE_NAME', 'ST_ABBREV']))"
   ]
  },
  {
   "cell_type": "code",
   "execution_count": 19,
   "id": "6d654ad3-c821-491c-ae30-c20717fc6b76",
   "metadata": {},
   "outputs": [
    {
     "data": {
      "text/plain": [
       "float64    60\n",
       "int64       4\n",
       "object      2\n",
       "dtype: int64"
      ]
     },
     "execution_count": 19,
     "metadata": {},
     "output_type": "execute_result"
    }
   ],
   "source": [
    "df_2020.dtypes.value_counts()"
   ]
  },
  {
   "cell_type": "code",
   "execution_count": 20,
   "id": "affa5bc7-da84-4e1e-be14-90819f8057b7",
   "metadata": {},
   "outputs": [
    {
     "data": {
      "text/plain": [
       "(set(), [])"
      ]
     },
     "execution_count": 20,
     "metadata": {},
     "output_type": "execute_result"
    }
   ],
   "source": [
    "find_sentinals_in_dataframe(df_2019.drop(columns = ['STATE_NAME', 'ST_ABBREV']))"
   ]
  },
  {
   "cell_type": "code",
   "execution_count": 21,
   "id": "43c6221d-4203-4261-8abd-0915bd6b4c2c",
   "metadata": {},
   "outputs": [
    {
     "data": {
      "text/plain": [
       "float64    60\n",
       "int64       4\n",
       "object      2\n",
       "dtype: int64"
      ]
     },
     "execution_count": 21,
     "metadata": {},
     "output_type": "execute_result"
    }
   ],
   "source": [
    "df_2019.dtypes.value_counts()"
   ]
  },
  {
   "cell_type": "code",
   "execution_count": 22,
   "id": "29e053fd-c01b-4c30-b2b9-01aebcc149bc",
   "metadata": {},
   "outputs": [
    {
     "data": {
      "text/plain": [
       "(set(), [])"
      ]
     },
     "execution_count": 22,
     "metadata": {},
     "output_type": "execute_result"
    }
   ],
   "source": [
    "find_sentinals_in_dataframe(df_2018.drop(columns = ['STATE_NAME', 'ST_ABBREV']))"
   ]
  },
  {
   "cell_type": "code",
   "execution_count": 23,
   "id": "134c52dd-861d-4c3d-afb3-e78269f10542",
   "metadata": {},
   "outputs": [
    {
     "data": {
      "text/plain": [
       "float64    60\n",
       "int64       4\n",
       "object      2\n",
       "dtype: int64"
      ]
     },
     "execution_count": 23,
     "metadata": {},
     "output_type": "execute_result"
    }
   ],
   "source": [
    "df_2018.dtypes.value_counts()"
   ]
  },
  {
   "cell_type": "code",
   "execution_count": 24,
   "id": "6db7b158-e5b6-4c64-abd6-ca3a5294dc1a",
   "metadata": {},
   "outputs": [
    {
     "data": {
      "text/plain": [
       "(set(), [])"
      ]
     },
     "execution_count": 24,
     "metadata": {},
     "output_type": "execute_result"
    }
   ],
   "source": [
    "find_sentinals_in_dataframe(df_2017.drop(columns = ['STATE_NAME', 'ST_ABBREV']))"
   ]
  },
  {
   "cell_type": "code",
   "execution_count": 25,
   "id": "2e33e008-e32d-4b3a-abd8-abdf428606f0",
   "metadata": {},
   "outputs": [
    {
     "data": {
      "text/plain": [
       "float64    60\n",
       "int64       4\n",
       "object      2\n",
       "dtype: int64"
      ]
     },
     "execution_count": 25,
     "metadata": {},
     "output_type": "execute_result"
    }
   ],
   "source": [
    "df_2017.dtypes.value_counts()"
   ]
  },
  {
   "cell_type": "code",
   "execution_count": 26,
   "id": "141ad7d5-7d1a-402d-a5d1-a667e86e332c",
   "metadata": {},
   "outputs": [
    {
     "data": {
      "text/plain": [
       "(set(), [])"
      ]
     },
     "execution_count": 26,
     "metadata": {},
     "output_type": "execute_result"
    }
   ],
   "source": [
    "find_sentinals_in_dataframe(df_2016.drop(columns = ['STATE_NAME', 'ST_ABBREV']))"
   ]
  },
  {
   "cell_type": "code",
   "execution_count": 27,
   "id": "669305bf-103c-4ac9-89ef-e53c74e34403",
   "metadata": {},
   "outputs": [
    {
     "data": {
      "text/plain": [
       "float64    60\n",
       "int64       4\n",
       "object      2\n",
       "dtype: int64"
      ]
     },
     "execution_count": 27,
     "metadata": {},
     "output_type": "execute_result"
    }
   ],
   "source": [
    "df_2016.dtypes.value_counts()"
   ]
  },
  {
   "cell_type": "markdown",
   "id": "fd205f9a-336f-48ee-8751-8c3abfd0184b",
   "metadata": {},
   "source": [
    "In each of the years there appear to be no sentinal values and the data types seem reasonable."
   ]
  },
  {
   "cell_type": "markdown",
   "id": "7d780708-2b77-42ce-9af1-324eaf7f13d7",
   "metadata": {},
   "source": [
    "## Merge Data"
   ]
  },
  {
   "cell_type": "code",
   "execution_count": 28,
   "id": "58b8ea51-c130-4290-9c05-fe1ea0e3f94b",
   "metadata": {},
   "outputs": [],
   "source": [
    "df = df_2021.merge(df_2020.drop(columns = ['STATE_NAME', 'ST_ABBREV', 'REGION']), on = 'ID',\n",
    "          suffixes=('_2021', '_2020'))\n",
    "df = df.merge(df_2019.drop(columns = ['STATE_NAME', 'ST_ABBREV', 'REGION']), on = 'ID',\n",
    "          suffixes=(None, '_2019'))\n",
    "df = df.merge(df_2018.drop(columns = ['STATE_NAME', 'ST_ABBREV', 'REGION']), on = 'ID',\n",
    "          suffixes=(None, '_2018'))\n",
    "df = df.merge(df_2017.drop(columns = ['STATE_NAME', 'ST_ABBREV', 'REGION']), on = 'ID',\n",
    "          suffixes=(None, '_2017'))\n",
    "df = df.merge(df_2016.drop(columns = ['STATE_NAME', 'ST_ABBREV', 'REGION']), on = 'ID',\n",
    "          suffixes=(None, '_2016'))"
   ]
  },
  {
   "cell_type": "code",
   "execution_count": 29,
   "id": "52e2ace2-b583-407d-a7ed-104a25bb9fec",
   "metadata": {},
   "outputs": [],
   "source": [
    "df.columns = [col if (col[-4:-2] == '20') or col in ['ID', 'STATE_NAME', 'ST_ABBREV', 'REGION'] else col + '_2019' for col in df.columns]"
   ]
  },
  {
   "cell_type": "code",
   "execution_count": 30,
   "id": "43ce3df0-682a-457a-984f-eb0b1eee84e6",
   "metadata": {},
   "outputs": [
    {
     "data": {
      "text/plain": [
       "ACSTOTPOP_2021    39283497\n",
       "ACSTOTPOP_2020    39148760\n",
       "ACSTOTPOP_2019    38982847\n",
       "ACSTOTPOP_2018    38654206\n",
       "ACSTOTPOP_2017    38421464\n",
       "ACSTOTPOP_2016    38066920\n",
       "dtype: int64"
      ]
     },
     "execution_count": 30,
     "metadata": {},
     "output_type": "execute_result"
    }
   ],
   "source": [
    "df[['ACSTOTPOP_2021', 'ACSTOTPOP_2020', 'ACSTOTPOP_2019', 'ACSTOTPOP_2018', 'ACSTOTPOP_2017', 'ACSTOTPOP_2016']].sum()"
   ]
  },
  {
   "cell_type": "markdown",
   "id": "de7b5d98-8b61-494f-b932-5a1f7c267e36",
   "metadata": {},
   "source": [
    "The population of California is about forty million, so these values appear reasonable."
   ]
  },
  {
   "cell_type": "markdown",
   "id": "6e4c6f43-515f-43a5-a093-66bb74c49671",
   "metadata": {},
   "source": [
    "## Examining null values"
   ]
  },
  {
   "cell_type": "code",
   "execution_count": 31,
   "id": "d6846dc8-101e-440c-a050-0a2fa3f3c2da",
   "metadata": {},
   "outputs": [
    {
     "data": {
      "text/plain": [
       "(140,\n",
       " array([    0,    35,    17,   364, 12516,    36,   434, 12172,    34,\n",
       "         2709], dtype=int64))"
      ]
     },
     "execution_count": 31,
     "metadata": {},
     "output_type": "execute_result"
    }
   ],
   "source": [
    "sum(df.isnull().sum().values != 0), df.isnull().sum().unique()"
   ]
  },
  {
   "cell_type": "code",
   "execution_count": 32,
   "id": "e1089bc0-2f60-4a81-8efd-ed2a610c83a1",
   "metadata": {},
   "outputs": [],
   "source": [
    "cols_with_nans = pd.DataFrame({'Columns': df.isnull().sum().index, 'Missing Values': df.isnull().sum().values})[df.isnull().sum().values != 0].reset_index(drop = True)"
   ]
  },
  {
   "cell_type": "code",
   "execution_count": 33,
   "id": "71f9afad-383f-4ded-94d0-82fac9d9d369",
   "metadata": {},
   "outputs": [
    {
     "data": {
      "text/plain": [
       "count      140.000000\n",
       "mean       829.314286\n",
       "std       2880.952178\n",
       "min         17.000000\n",
       "25%         17.000000\n",
       "50%         34.000000\n",
       "75%         36.000000\n",
       "max      12516.000000\n",
       "Name: Missing Values, dtype: float64"
      ]
     },
     "execution_count": 33,
     "metadata": {},
     "output_type": "execute_result"
    }
   ],
   "source": [
    "cols_with_nans['Missing Values'].describe()"
   ]
  },
  {
   "cell_type": "code",
   "execution_count": 34,
   "id": "1970d06b-6178-42f7-a2e6-ecc8cc9d1aa1",
   "metadata": {},
   "outputs": [
    {
     "data": {
      "text/plain": [
       "count       20.000000\n",
       "mean      5639.000000\n",
       "std       5684.249115\n",
       "min        364.000000\n",
       "25%        434.000000\n",
       "50%       2709.000000\n",
       "75%      12172.000000\n",
       "max      12516.000000\n",
       "Name: Missing Values, dtype: float64"
      ]
     },
     "execution_count": 34,
     "metadata": {},
     "output_type": "execute_result"
    }
   ],
   "source": [
    "cols_with_nans[cols_with_nans['Missing Values'] > 36]['Missing Values'].describe()"
   ]
  },
  {
   "cell_type": "code",
   "execution_count": 35,
   "id": "0a989c95-34f1-423b-8121-db6ec6fde8d1",
   "metadata": {},
   "outputs": [
    {
     "data": {
      "text/html": [
       "<div>\n",
       "<style scoped>\n",
       "    .dataframe tbody tr th:only-of-type {\n",
       "        vertical-align: middle;\n",
       "    }\n",
       "\n",
       "    .dataframe tbody tr th {\n",
       "        vertical-align: top;\n",
       "    }\n",
       "\n",
       "    .dataframe thead th {\n",
       "        text-align: right;\n",
       "    }\n",
       "</style>\n",
       "<table border=\"1\" class=\"dataframe\">\n",
       "  <thead>\n",
       "    <tr style=\"text-align: right;\">\n",
       "      <th></th>\n",
       "      <th>Columns</th>\n",
       "      <th>Missing Values</th>\n",
       "    </tr>\n",
       "  </thead>\n",
       "  <tbody>\n",
       "    <tr>\n",
       "      <th>16</th>\n",
       "      <td>PTRAF_2021</td>\n",
       "      <td>364</td>\n",
       "    </tr>\n",
       "    <tr>\n",
       "      <th>17</th>\n",
       "      <td>P_PTRAF_2021</td>\n",
       "      <td>364</td>\n",
       "    </tr>\n",
       "    <tr>\n",
       "      <th>18</th>\n",
       "      <td>D_PTRAF_2_2021</td>\n",
       "      <td>364</td>\n",
       "    </tr>\n",
       "    <tr>\n",
       "      <th>19</th>\n",
       "      <td>P_PTRAF_D2_2021</td>\n",
       "      <td>364</td>\n",
       "    </tr>\n",
       "    <tr>\n",
       "      <th>20</th>\n",
       "      <td>PWDIS_2021</td>\n",
       "      <td>12516</td>\n",
       "    </tr>\n",
       "    <tr>\n",
       "      <th>21</th>\n",
       "      <td>P_PWDIS_2021</td>\n",
       "      <td>12516</td>\n",
       "    </tr>\n",
       "    <tr>\n",
       "      <th>22</th>\n",
       "      <td>D_PWDIS_2_2021</td>\n",
       "      <td>12516</td>\n",
       "    </tr>\n",
       "    <tr>\n",
       "      <th>23</th>\n",
       "      <td>P_PWDIS_D2_2021</td>\n",
       "      <td>12516</td>\n",
       "    </tr>\n",
       "    <tr>\n",
       "      <th>44</th>\n",
       "      <td>PTRAF_2020</td>\n",
       "      <td>434</td>\n",
       "    </tr>\n",
       "    <tr>\n",
       "      <th>45</th>\n",
       "      <td>P_PTRAF_2020</td>\n",
       "      <td>434</td>\n",
       "    </tr>\n",
       "    <tr>\n",
       "      <th>46</th>\n",
       "      <td>D_PTRAF_2_2020</td>\n",
       "      <td>434</td>\n",
       "    </tr>\n",
       "    <tr>\n",
       "      <th>47</th>\n",
       "      <td>P_PTRAF_D2_2020</td>\n",
       "      <td>434</td>\n",
       "    </tr>\n",
       "    <tr>\n",
       "      <th>48</th>\n",
       "      <td>PWDIS_2020</td>\n",
       "      <td>12172</td>\n",
       "    </tr>\n",
       "    <tr>\n",
       "      <th>49</th>\n",
       "      <td>P_PWDIS_2020</td>\n",
       "      <td>12172</td>\n",
       "    </tr>\n",
       "    <tr>\n",
       "      <th>50</th>\n",
       "      <td>D_PWDIS_2_2020</td>\n",
       "      <td>12172</td>\n",
       "    </tr>\n",
       "    <tr>\n",
       "      <th>51</th>\n",
       "      <td>P_PWDIS_D2_2020</td>\n",
       "      <td>12172</td>\n",
       "    </tr>\n",
       "    <tr>\n",
       "      <th>132</th>\n",
       "      <td>P_PTSDF_2016</td>\n",
       "      <td>2709</td>\n",
       "    </tr>\n",
       "    <tr>\n",
       "      <th>133</th>\n",
       "      <td>PTSDF_2016</td>\n",
       "      <td>2709</td>\n",
       "    </tr>\n",
       "    <tr>\n",
       "      <th>134</th>\n",
       "      <td>D_PTSDF_2_2016</td>\n",
       "      <td>2709</td>\n",
       "    </tr>\n",
       "    <tr>\n",
       "      <th>135</th>\n",
       "      <td>P_PTSDF_D2_2016</td>\n",
       "      <td>2709</td>\n",
       "    </tr>\n",
       "  </tbody>\n",
       "</table>\n",
       "</div>"
      ],
      "text/plain": [
       "             Columns  Missing Values\n",
       "16        PTRAF_2021             364\n",
       "17      P_PTRAF_2021             364\n",
       "18    D_PTRAF_2_2021             364\n",
       "19   P_PTRAF_D2_2021             364\n",
       "20        PWDIS_2021           12516\n",
       "21      P_PWDIS_2021           12516\n",
       "22    D_PWDIS_2_2021           12516\n",
       "23   P_PWDIS_D2_2021           12516\n",
       "44        PTRAF_2020             434\n",
       "45      P_PTRAF_2020             434\n",
       "46    D_PTRAF_2_2020             434\n",
       "47   P_PTRAF_D2_2020             434\n",
       "48        PWDIS_2020           12172\n",
       "49      P_PWDIS_2020           12172\n",
       "50    D_PWDIS_2_2020           12172\n",
       "51   P_PWDIS_D2_2020           12172\n",
       "132     P_PTSDF_2016            2709\n",
       "133       PTSDF_2016            2709\n",
       "134   D_PTSDF_2_2016            2709\n",
       "135  P_PTSDF_D2_2016            2709"
      ]
     },
     "execution_count": 35,
     "metadata": {},
     "output_type": "execute_result"
    }
   ],
   "source": [
    "cols_with_nans[cols_with_nans['Missing Values'] > 36]"
   ]
  },
  {
   "cell_type": "markdown",
   "id": "816eb1f8-ca1f-4eb6-8ade-d949e4cad732",
   "metadata": {},
   "source": [
    "Data related to hazardous waste (denoted by PWDIS) is likely unreliable given the large proportion of missing values."
   ]
  },
  {
   "cell_type": "markdown",
   "id": "dfb7fd4c-71b1-4923-aa83-425cdec8aabd",
   "metadata": {},
   "source": [
    "## Save DataFrame"
   ]
  },
  {
   "cell_type": "code",
   "execution_count": 37,
   "id": "6f961099-e523-493d-822a-19322b063338",
   "metadata": {},
   "outputs": [],
   "source": [
    "# df.to_csv('./data/EJSCREEN_data_all_years.csv', index = False) I don't want to accidentlly save over this file.\n",
    "df.to_csv('../data/epa_data/EJSCREEN_data_all_years_2.csv', index = False)"
   ]
  },
  {
   "cell_type": "code",
   "execution_count": 38,
   "id": "13e63092-7fb7-448b-8470-c7b3d5d30b8f",
   "metadata": {},
   "outputs": [
    {
     "data": {
      "text/plain": [
       "(23212, 376)"
      ]
     },
     "execution_count": 38,
     "metadata": {},
     "output_type": "execute_result"
    }
   ],
   "source": [
    "df.shape"
   ]
  },
  {
   "cell_type": "code",
   "execution_count": null,
   "id": "26615bac-03ae-48df-9e66-a6ebd5aa3c4f",
   "metadata": {},
   "outputs": [],
   "source": []
  }
 ],
 "metadata": {
  "kernelspec": {
   "display_name": "Python 3 (ipykernel)",
   "language": "python",
   "name": "python3"
  },
  "language_info": {
   "codemirror_mode": {
    "name": "ipython",
    "version": 3
   },
   "file_extension": ".py",
   "mimetype": "text/x-python",
   "name": "python",
   "nbconvert_exporter": "python",
   "pygments_lexer": "ipython3",
   "version": "3.9.12"
  }
 },
 "nbformat": 4,
 "nbformat_minor": 5
}
